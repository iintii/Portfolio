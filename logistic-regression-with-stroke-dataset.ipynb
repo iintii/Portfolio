{
 "cells": [
  {
   "cell_type": "code",
   "execution_count": 1,
   "id": "5bbd2cb1",
   "metadata": {
    "_cell_guid": "b1076dfc-b9ad-4769-8c92-a6c4dae69d19",
    "_uuid": "8f2839f25d086af736a60e9eeb907d3b93b6e0e5",
    "execution": {
     "iopub.execute_input": "2023-08-16T15:04:13.780658Z",
     "iopub.status.busy": "2023-08-16T15:04:13.780098Z",
     "iopub.status.idle": "2023-08-16T15:04:15.170389Z",
     "shell.execute_reply": "2023-08-16T15:04:15.168695Z"
    },
    "papermill": {
     "duration": 1.403372,
     "end_time": "2023-08-16T15:04:15.173773",
     "exception": false,
     "start_time": "2023-08-16T15:04:13.770401",
     "status": "completed"
    },
    "tags": []
   },
   "outputs": [
    {
     "name": "stderr",
     "output_type": "stream",
     "text": [
      "/opt/conda/lib/python3.10/site-packages/scipy/__init__.py:146: UserWarning: A NumPy version >=1.16.5 and <1.23.0 is required for this version of SciPy (detected version 1.23.5\n",
      "  warnings.warn(f\"A NumPy version >={np_minversion} and <{np_maxversion}\"\n"
     ]
    },
    {
     "name": "stdout",
     "output_type": "stream",
     "text": [
      "/kaggle/input/strokedata/stroke data (1).csv\n"
     ]
    }
   ],
   "source": [
    "# This Python 3 environment comes with many helpful analytics libraries installed\n",
    "# It is defined by the kaggle/python Docker image: https://github.com/kaggle/docker-python\n",
    "# For example, here's several helpful packages to load\n",
    "\n",
    "import numpy as np # linear algebra\n",
    "import pandas as pd # data processing, CSV file I/O (e.g. pd.read_csv)\n",
    "import matplotlib.pyplot as plt\n",
    "from sklearn.model_selection import train_test_split\n",
    "# Input data files are available in the read-only \"../input/\" directory\n",
    "# For example, running this (by clicking run or pressing Shift+Enter) will list all files under the input directory\n",
    "\n",
    "import os\n",
    "for dirname, _, filenames in os.walk('/kaggle/input'):\n",
    "    for filename in filenames:\n",
    "        print(os.path.join(dirname, filename))\n",
    "\n",
    "# You can write up to 20GB to the current directory (/kaggle/working/) that gets preserved as output when you create a version using \"Save & Run All\" \n",
    "# You can also write temporary files to /kaggle/temp/, but they won't be saved outside of the current session"
   ]
  },
  {
   "cell_type": "code",
   "execution_count": 2,
   "id": "7fa34f0a",
   "metadata": {
    "execution": {
     "iopub.execute_input": "2023-08-16T15:04:15.194169Z",
     "iopub.status.busy": "2023-08-16T15:04:15.192875Z",
     "iopub.status.idle": "2023-08-16T15:04:15.382169Z",
     "shell.execute_reply": "2023-08-16T15:04:15.381247Z"
    },
    "papermill": {
     "duration": 0.202327,
     "end_time": "2023-08-16T15:04:15.385590",
     "exception": false,
     "start_time": "2023-08-16T15:04:15.183263",
     "status": "completed"
    },
    "tags": []
   },
   "outputs": [],
   "source": [
    "stroke = pd.read_csv('/kaggle/input/strokedata/stroke data (1).csv')"
   ]
  },
  {
   "cell_type": "markdown",
   "id": "f2e59f29",
   "metadata": {
    "papermill": {
     "duration": 0.008355,
     "end_time": "2023-08-16T15:04:15.403400",
     "exception": false,
     "start_time": "2023-08-16T15:04:15.395045",
     "status": "completed"
    },
    "tags": []
   },
   "source": [
    "# Data Cleaning / Feature Preparation"
   ]
  },
  {
   "cell_type": "code",
   "execution_count": 3,
   "id": "9b1085c1",
   "metadata": {
    "execution": {
     "iopub.execute_input": "2023-08-16T15:04:15.419257Z",
     "iopub.status.busy": "2023-08-16T15:04:15.418290Z",
     "iopub.status.idle": "2023-08-16T15:04:15.598933Z",
     "shell.execute_reply": "2023-08-16T15:04:15.597847Z"
    },
    "papermill": {
     "duration": 0.191939,
     "end_time": "2023-08-16T15:04:15.601983",
     "exception": false,
     "start_time": "2023-08-16T15:04:15.410044",
     "status": "completed"
    },
    "tags": []
   },
   "outputs": [],
   "source": [
    "#NA Values in smoke_status column\n",
    "stroke['smoking_status'].fillna('Unknown', inplace = True)\n",
    "\n",
    "#NA values in Metric 2 column\n",
    "stroke.columns[stroke.isna().any()]\n",
    "stroke['metric_2'].fillna(stroke['metric_2'].mean(), inplace=True)\n",
    "\n",
    "#Checking Null Values\n",
    "stroke.columns[stroke.isnull().any()]\n",
    "\n",
    "#Remove ID column\n",
    "stroke.drop('id', axis=1, inplace=True)"
   ]
  },
  {
   "cell_type": "code",
   "execution_count": 4,
   "id": "029e1241",
   "metadata": {
    "execution": {
     "iopub.execute_input": "2023-08-16T15:04:15.617222Z",
     "iopub.status.busy": "2023-08-16T15:04:15.616804Z",
     "iopub.status.idle": "2023-08-16T15:04:15.703383Z",
     "shell.execute_reply": "2023-08-16T15:04:15.702247Z"
    },
    "papermill": {
     "duration": 0.097199,
     "end_time": "2023-08-16T15:04:15.705960",
     "exception": false,
     "start_time": "2023-08-16T15:04:15.608761",
     "status": "completed"
    },
    "tags": []
   },
   "outputs": [
    {
     "data": {
      "text/plain": [
       "0    42617\n",
       "1      783\n",
       "Name: stroke, dtype: int64"
      ]
     },
     "execution_count": 4,
     "metadata": {},
     "output_type": "execute_result"
    }
   ],
   "source": [
    "#Normalizing continuous data\n",
    "stroke_m = stroke.drop(columns = ['stroke'])\n",
    "mean = stroke_m.drop(columns=['gender', 'married', 'hypertension', 'heart_disease', 'occupation', 'residence', 'metric_3', 'smoking_status']).mean()\n",
    "std  = stroke_m.drop(columns=['gender', 'married', 'hypertension', 'heart_disease', 'occupation', 'residence', 'metric_3', 'smoking_status']).std()\n",
    "stroke_m = (stroke_m.drop(columns=['gender', 'married', 'hypertension', 'heart_disease', 'occupation', 'residence', 'metric_3', 'smoking_status']) - mean)/std\n",
    "stroke_m #only normalized continuous values\n",
    "['gender', 'married', 'occupation', 'residence', 'smoking_status']\n",
    "\n",
    "#One hot Encoding\n",
    "cols = ['gender', 'married', 'occupation', 'residence', 'smoking_status']\n",
    "stroke_r = stroke[cols]\n",
    "stroke_r = pd.get_dummies(stroke_r, columns=cols)\n",
    "#Join both columns\n",
    "main_stroke = pd.concat([stroke_m, stroke_r], axis = 1)\n",
    "\n",
    "ams = ['hypertension', 'heart_disease','metric_3']\n",
    "main_stroke[ams] = stroke[ams]\n",
    "\n",
    "main_stroke['stroke'] = stroke['stroke']\n",
    "main_stroke['stroke'].value_counts()\n"
   ]
  },
  {
   "cell_type": "markdown",
   "id": "dfcc15c9",
   "metadata": {
    "papermill": {
     "duration": 0.006284,
     "end_time": "2023-08-16T15:04:15.718952",
     "exception": false,
     "start_time": "2023-08-16T15:04:15.712668",
     "status": "completed"
    },
    "tags": []
   },
   "source": [
    "The data is heavily imbalanced with 783 cases of individuals who have experienced a stroke while 42617 who havent. Hence the data will be both oversampled and undersampled to address this discrepancy. "
   ]
  },
  {
   "cell_type": "code",
   "execution_count": 5,
   "id": "30f4dcb2",
   "metadata": {
    "execution": {
     "iopub.execute_input": "2023-08-16T15:04:15.734874Z",
     "iopub.status.busy": "2023-08-16T15:04:15.733614Z",
     "iopub.status.idle": "2023-08-16T15:04:16.525287Z",
     "shell.execute_reply": "2023-08-16T15:04:16.524064Z"
    },
    "papermill": {
     "duration": 0.802436,
     "end_time": "2023-08-16T15:04:16.528071",
     "exception": false,
     "start_time": "2023-08-16T15:04:15.725635",
     "status": "completed"
    },
    "tags": []
   },
   "outputs": [
    {
     "data": {
      "text/html": [
       "<div>\n",
       "<style scoped>\n",
       "    .dataframe tbody tr th:only-of-type {\n",
       "        vertical-align: middle;\n",
       "    }\n",
       "\n",
       "    .dataframe tbody tr th {\n",
       "        vertical-align: top;\n",
       "    }\n",
       "\n",
       "    .dataframe thead th {\n",
       "        text-align: right;\n",
       "    }\n",
       "</style>\n",
       "<table border=\"1\" class=\"dataframe\">\n",
       "  <thead>\n",
       "    <tr style=\"text-align: right;\">\n",
       "      <th></th>\n",
       "      <th>age</th>\n",
       "      <th>metric_1</th>\n",
       "      <th>metric_2</th>\n",
       "      <th>metric_4</th>\n",
       "      <th>metric_5</th>\n",
       "      <th>gender_Female</th>\n",
       "      <th>gender_Male</th>\n",
       "      <th>gender_Other</th>\n",
       "      <th>married_No</th>\n",
       "      <th>married_Yes</th>\n",
       "      <th>...</th>\n",
       "      <th>occupation_E</th>\n",
       "      <th>residence_Rural</th>\n",
       "      <th>residence_Urban</th>\n",
       "      <th>smoking_status_Unknown</th>\n",
       "      <th>smoking_status_formerly smoked</th>\n",
       "      <th>smoking_status_never smoked</th>\n",
       "      <th>smoking_status_smokes</th>\n",
       "      <th>hypertension</th>\n",
       "      <th>heart_disease</th>\n",
       "      <th>metric_3</th>\n",
       "    </tr>\n",
       "  </thead>\n",
       "  <tbody>\n",
       "    <tr>\n",
       "      <th>0</th>\n",
       "      <td>-0.096473</td>\n",
       "      <td>-1.119944</td>\n",
       "      <td>0.261188</td>\n",
       "      <td>0.363499</td>\n",
       "      <td>-1.119944</td>\n",
       "      <td>1</td>\n",
       "      <td>0</td>\n",
       "      <td>0</td>\n",
       "      <td>0</td>\n",
       "      <td>1</td>\n",
       "      <td>...</td>\n",
       "      <td>1</td>\n",
       "      <td>0</td>\n",
       "      <td>1</td>\n",
       "      <td>0</td>\n",
       "      <td>0</td>\n",
       "      <td>0</td>\n",
       "      <td>1</td>\n",
       "      <td>0</td>\n",
       "      <td>0</td>\n",
       "      <td>0</td>\n",
       "    </tr>\n",
       "    <tr>\n",
       "      <th>1</th>\n",
       "      <td>-0.480449</td>\n",
       "      <td>-0.969637</td>\n",
       "      <td>0.941993</td>\n",
       "      <td>0.922576</td>\n",
       "      <td>-0.969637</td>\n",
       "      <td>1</td>\n",
       "      <td>0</td>\n",
       "      <td>0</td>\n",
       "      <td>1</td>\n",
       "      <td>0</td>\n",
       "      <td>...</td>\n",
       "      <td>0</td>\n",
       "      <td>0</td>\n",
       "      <td>1</td>\n",
       "      <td>0</td>\n",
       "      <td>0</td>\n",
       "      <td>1</td>\n",
       "      <td>0</td>\n",
       "      <td>0</td>\n",
       "      <td>0</td>\n",
       "      <td>0</td>\n",
       "    </tr>\n",
       "    <tr>\n",
       "      <th>2</th>\n",
       "      <td>0.714145</td>\n",
       "      <td>-0.076377</td>\n",
       "      <td>0.169541</td>\n",
       "      <td>-0.066036</td>\n",
       "      <td>-0.076377</td>\n",
       "      <td>1</td>\n",
       "      <td>0</td>\n",
       "      <td>0</td>\n",
       "      <td>0</td>\n",
       "      <td>1</td>\n",
       "      <td>...</td>\n",
       "      <td>1</td>\n",
       "      <td>0</td>\n",
       "      <td>1</td>\n",
       "      <td>0</td>\n",
       "      <td>1</td>\n",
       "      <td>0</td>\n",
       "      <td>0</td>\n",
       "      <td>0</td>\n",
       "      <td>0</td>\n",
       "      <td>0</td>\n",
       "    </tr>\n",
       "    <tr>\n",
       "      <th>3</th>\n",
       "      <td>0.287504</td>\n",
       "      <td>0.772579</td>\n",
       "      <td>-0.733834</td>\n",
       "      <td>-0.795563</td>\n",
       "      <td>0.772579</td>\n",
       "      <td>1</td>\n",
       "      <td>0</td>\n",
       "      <td>0</td>\n",
       "      <td>0</td>\n",
       "      <td>1</td>\n",
       "      <td>...</td>\n",
       "      <td>0</td>\n",
       "      <td>0</td>\n",
       "      <td>1</td>\n",
       "      <td>1</td>\n",
       "      <td>0</td>\n",
       "      <td>0</td>\n",
       "      <td>0</td>\n",
       "      <td>0</td>\n",
       "      <td>0</td>\n",
       "      <td>0</td>\n",
       "    </tr>\n",
       "    <tr>\n",
       "      <th>4</th>\n",
       "      <td>-0.267129</td>\n",
       "      <td>-0.417583</td>\n",
       "      <td>-1.021866</td>\n",
       "      <td>0.411225</td>\n",
       "      <td>-0.417583</td>\n",
       "      <td>1</td>\n",
       "      <td>0</td>\n",
       "      <td>0</td>\n",
       "      <td>0</td>\n",
       "      <td>1</td>\n",
       "      <td>...</td>\n",
       "      <td>0</td>\n",
       "      <td>0</td>\n",
       "      <td>1</td>\n",
       "      <td>0</td>\n",
       "      <td>0</td>\n",
       "      <td>1</td>\n",
       "      <td>0</td>\n",
       "      <td>0</td>\n",
       "      <td>0</td>\n",
       "      <td>0</td>\n",
       "    </tr>\n",
       "    <tr>\n",
       "      <th>...</th>\n",
       "      <td>...</td>\n",
       "      <td>...</td>\n",
       "      <td>...</td>\n",
       "      <td>...</td>\n",
       "      <td>...</td>\n",
       "      <td>...</td>\n",
       "      <td>...</td>\n",
       "      <td>...</td>\n",
       "      <td>...</td>\n",
       "      <td>...</td>\n",
       "      <td>...</td>\n",
       "      <td>...</td>\n",
       "      <td>...</td>\n",
       "      <td>...</td>\n",
       "      <td>...</td>\n",
       "      <td>...</td>\n",
       "      <td>...</td>\n",
       "      <td>...</td>\n",
       "      <td>...</td>\n",
       "      <td>...</td>\n",
       "      <td>...</td>\n",
       "    </tr>\n",
       "    <tr>\n",
       "      <th>23485</th>\n",
       "      <td>0.368385</td>\n",
       "      <td>-0.568702</td>\n",
       "      <td>0.000000</td>\n",
       "      <td>-0.246990</td>\n",
       "      <td>-0.568702</td>\n",
       "      <td>1</td>\n",
       "      <td>0</td>\n",
       "      <td>0</td>\n",
       "      <td>0</td>\n",
       "      <td>1</td>\n",
       "      <td>...</td>\n",
       "      <td>0</td>\n",
       "      <td>0</td>\n",
       "      <td>1</td>\n",
       "      <td>0</td>\n",
       "      <td>0</td>\n",
       "      <td>0</td>\n",
       "      <td>1</td>\n",
       "      <td>0</td>\n",
       "      <td>0</td>\n",
       "      <td>0</td>\n",
       "    </tr>\n",
       "    <tr>\n",
       "      <th>23486</th>\n",
       "      <td>1.119990</td>\n",
       "      <td>2.061175</td>\n",
       "      <td>0.002608</td>\n",
       "      <td>-2.227981</td>\n",
       "      <td>2.061175</td>\n",
       "      <td>0</td>\n",
       "      <td>1</td>\n",
       "      <td>0</td>\n",
       "      <td>0</td>\n",
       "      <td>1</td>\n",
       "      <td>...</td>\n",
       "      <td>0</td>\n",
       "      <td>0</td>\n",
       "      <td>1</td>\n",
       "      <td>0</td>\n",
       "      <td>0</td>\n",
       "      <td>0</td>\n",
       "      <td>1</td>\n",
       "      <td>0</td>\n",
       "      <td>0</td>\n",
       "      <td>0</td>\n",
       "    </tr>\n",
       "    <tr>\n",
       "      <th>23487</th>\n",
       "      <td>0.352160</td>\n",
       "      <td>-0.509781</td>\n",
       "      <td>2.271655</td>\n",
       "      <td>-0.791728</td>\n",
       "      <td>-0.509781</td>\n",
       "      <td>0</td>\n",
       "      <td>1</td>\n",
       "      <td>0</td>\n",
       "      <td>0</td>\n",
       "      <td>1</td>\n",
       "      <td>...</td>\n",
       "      <td>0</td>\n",
       "      <td>1</td>\n",
       "      <td>0</td>\n",
       "      <td>0</td>\n",
       "      <td>0</td>\n",
       "      <td>0</td>\n",
       "      <td>0</td>\n",
       "      <td>0</td>\n",
       "      <td>0</td>\n",
       "      <td>0</td>\n",
       "    </tr>\n",
       "    <tr>\n",
       "      <th>23488</th>\n",
       "      <td>0.604391</td>\n",
       "      <td>-0.800828</td>\n",
       "      <td>0.012520</td>\n",
       "      <td>1.295881</td>\n",
       "      <td>-0.800828</td>\n",
       "      <td>0</td>\n",
       "      <td>1</td>\n",
       "      <td>0</td>\n",
       "      <td>0</td>\n",
       "      <td>1</td>\n",
       "      <td>...</td>\n",
       "      <td>0</td>\n",
       "      <td>1</td>\n",
       "      <td>0</td>\n",
       "      <td>0</td>\n",
       "      <td>0</td>\n",
       "      <td>0</td>\n",
       "      <td>1</td>\n",
       "      <td>0</td>\n",
       "      <td>0</td>\n",
       "      <td>0</td>\n",
       "    </tr>\n",
       "    <tr>\n",
       "      <th>23489</th>\n",
       "      <td>1.299096</td>\n",
       "      <td>-0.385453</td>\n",
       "      <td>0.691308</td>\n",
       "      <td>-0.656351</td>\n",
       "      <td>-0.385453</td>\n",
       "      <td>1</td>\n",
       "      <td>0</td>\n",
       "      <td>0</td>\n",
       "      <td>0</td>\n",
       "      <td>1</td>\n",
       "      <td>...</td>\n",
       "      <td>0</td>\n",
       "      <td>0</td>\n",
       "      <td>1</td>\n",
       "      <td>0</td>\n",
       "      <td>0</td>\n",
       "      <td>1</td>\n",
       "      <td>0</td>\n",
       "      <td>1</td>\n",
       "      <td>0</td>\n",
       "      <td>0</td>\n",
       "    </tr>\n",
       "  </tbody>\n",
       "</table>\n",
       "<p>23490 rows × 24 columns</p>\n",
       "</div>"
      ],
      "text/plain": [
       "            age  metric_1  metric_2  metric_4  metric_5  gender_Female  \\\n",
       "0     -0.096473 -1.119944  0.261188  0.363499 -1.119944              1   \n",
       "1     -0.480449 -0.969637  0.941993  0.922576 -0.969637              1   \n",
       "2      0.714145 -0.076377  0.169541 -0.066036 -0.076377              1   \n",
       "3      0.287504  0.772579 -0.733834 -0.795563  0.772579              1   \n",
       "4     -0.267129 -0.417583 -1.021866  0.411225 -0.417583              1   \n",
       "...         ...       ...       ...       ...       ...            ...   \n",
       "23485  0.368385 -0.568702  0.000000 -0.246990 -0.568702              1   \n",
       "23486  1.119990  2.061175  0.002608 -2.227981  2.061175              0   \n",
       "23487  0.352160 -0.509781  2.271655 -0.791728 -0.509781              0   \n",
       "23488  0.604391 -0.800828  0.012520  1.295881 -0.800828              0   \n",
       "23489  1.299096 -0.385453  0.691308 -0.656351 -0.385453              1   \n",
       "\n",
       "       gender_Male  gender_Other  married_No  married_Yes  ...  occupation_E  \\\n",
       "0                0             0           0            1  ...             1   \n",
       "1                0             0           1            0  ...             0   \n",
       "2                0             0           0            1  ...             1   \n",
       "3                0             0           0            1  ...             0   \n",
       "4                0             0           0            1  ...             0   \n",
       "...            ...           ...         ...          ...  ...           ...   \n",
       "23485            0             0           0            1  ...             0   \n",
       "23486            1             0           0            1  ...             0   \n",
       "23487            1             0           0            1  ...             0   \n",
       "23488            1             0           0            1  ...             0   \n",
       "23489            0             0           0            1  ...             0   \n",
       "\n",
       "       residence_Rural  residence_Urban  smoking_status_Unknown  \\\n",
       "0                    0                1                       0   \n",
       "1                    0                1                       0   \n",
       "2                    0                1                       0   \n",
       "3                    0                1                       1   \n",
       "4                    0                1                       0   \n",
       "...                ...              ...                     ...   \n",
       "23485                0                1                       0   \n",
       "23486                0                1                       0   \n",
       "23487                1                0                       0   \n",
       "23488                1                0                       0   \n",
       "23489                0                1                       0   \n",
       "\n",
       "       smoking_status_formerly smoked  smoking_status_never smoked  \\\n",
       "0                                   0                            0   \n",
       "1                                   0                            1   \n",
       "2                                   1                            0   \n",
       "3                                   0                            0   \n",
       "4                                   0                            1   \n",
       "...                               ...                          ...   \n",
       "23485                               0                            0   \n",
       "23486                               0                            0   \n",
       "23487                               0                            0   \n",
       "23488                               0                            0   \n",
       "23489                               0                            1   \n",
       "\n",
       "       smoking_status_smokes  hypertension  heart_disease  metric_3  \n",
       "0                          1             0              0         0  \n",
       "1                          0             0              0         0  \n",
       "2                          0             0              0         0  \n",
       "3                          0             0              0         0  \n",
       "4                          0             0              0         0  \n",
       "...                      ...           ...            ...       ...  \n",
       "23485                      1             0              0         0  \n",
       "23486                      1             0              0         0  \n",
       "23487                      0             0              0         0  \n",
       "23488                      1             0              0         0  \n",
       "23489                      0             1              0         0  \n",
       "\n",
       "[23490 rows x 24 columns]"
      ]
     },
     "execution_count": 5,
     "metadata": {},
     "output_type": "execute_result"
    }
   ],
   "source": [
    "from imblearn.over_sampling import SMOTE\n",
    "from imblearn.under_sampling import RandomUnderSampler\n",
    "\n",
    "X = main_stroke.drop('stroke', axis=1)\n",
    "y = main_stroke['stroke']\n",
    "\n",
    "# Apply the random undersampling\n",
    "undersample = RandomUnderSampler(sampling_strategy=0.05)\n",
    "X_under, y_under = undersample.fit_resample(X, y)\n",
    "\n",
    "# Apply SMOTE to the undersampled dataset\n",
    "oversample = SMOTE(sampling_strategy=0.5)\n",
    "X_balanced, y_balanced = oversample.fit_resample(X_under, y_under)\n",
    "y_balanced.value_counts()\n",
    "X_balanced"
   ]
  },
  {
   "cell_type": "markdown",
   "id": "82348a6d",
   "metadata": {
    "papermill": {
     "duration": 0.006946,
     "end_time": "2023-08-16T15:04:16.542656",
     "exception": false,
     "start_time": "2023-08-16T15:04:16.535710",
     "status": "completed"
    },
    "tags": []
   },
   "source": [
    "# Logistic Regression"
   ]
  },
  {
   "cell_type": "code",
   "execution_count": 6,
   "id": "d24f7406",
   "metadata": {
    "execution": {
     "iopub.execute_input": "2023-08-16T15:04:16.559355Z",
     "iopub.status.busy": "2023-08-16T15:04:16.558879Z",
     "iopub.status.idle": "2023-08-16T15:04:16.579011Z",
     "shell.execute_reply": "2023-08-16T15:04:16.577807Z"
    },
    "papermill": {
     "duration": 0.031595,
     "end_time": "2023-08-16T15:04:16.581635",
     "exception": false,
     "start_time": "2023-08-16T15:04:16.550040",
     "status": "completed"
    },
    "tags": []
   },
   "outputs": [
    {
     "name": "stdout",
     "output_type": "stream",
     "text": [
      "Training set shapes:\n",
      "x_train: (16443, 24)\n",
      "y_train: (16443, 1)\n",
      "\n",
      "Validation set shapes:\n",
      "x_validation: (3523, 24)\n",
      "y_validation: (3523, 1)\n",
      "\n",
      "Test set shapes:\n",
      "x_test: (3524, 24)\n",
      "y_test: (3524, 1)\n"
     ]
    }
   ],
   "source": [
    "#Convert to np arrays\n",
    "x_features = X_balanced.values\n",
    "y_features = y_balanced.values\n",
    "\n",
    "# Reshape x_features and y_features to column vectors\n",
    "x_features = x_features.reshape(-1, x_features.shape[1])\n",
    "y_features = y_features.reshape(-1, 1)\n",
    "# Split the data into training, validation, and test sets\n",
    "x_train, x_temp, y_train, y_temp = train_test_split(x_features, y_features, test_size=0.3, random_state=42)\n",
    "x_validation, x_test, y_validation, y_test = train_test_split(x_temp, y_temp, test_size=0.5, random_state=42)\n",
    "\n",
    "print(\"Training set shapes:\")\n",
    "print(\"x_train:\", x_train.shape)\n",
    "print(\"y_train:\", y_train.shape)\n",
    "\n",
    "print(\"\\nValidation set shapes:\")\n",
    "print(\"x_validation:\", x_validation.shape)\n",
    "print(\"y_validation:\", y_validation.shape)\n",
    "\n",
    "print(\"\\nTest set shapes:\")\n",
    "print(\"x_test:\", x_test.shape)\n",
    "print(\"y_test:\", y_test.shape)"
   ]
  },
  {
   "cell_type": "code",
   "execution_count": 7,
   "id": "a7698244",
   "metadata": {
    "execution": {
     "iopub.execute_input": "2023-08-16T15:04:16.598662Z",
     "iopub.status.busy": "2023-08-16T15:04:16.598235Z",
     "iopub.status.idle": "2023-08-16T15:04:16.609758Z",
     "shell.execute_reply": "2023-08-16T15:04:16.608498Z"
    },
    "papermill": {
     "duration": 0.023002,
     "end_time": "2023-08-16T15:04:16.612228",
     "exception": false,
     "start_time": "2023-08-16T15:04:16.589226",
     "status": "completed"
    },
    "tags": []
   },
   "outputs": [],
   "source": [
    "#sigmoid\n",
    "def sigmoid(k):    \n",
    "    sigs = 1 / (1 + np.exp(-k))\n",
    "    return sigs\n",
    "\n",
    "#cost function (taking Adv of Numpy broadcasting etc.)\n",
    "def cost_f(x, y, w_in, b_in, Lam):\n",
    "    \n",
    "    m = x.shape[0]\n",
    "    \n",
    "    f_x = np.dot(x, w_in) + b_in\n",
    "    sig = sigmoid(f_x)\n",
    "    \n",
    "    epsilon = 1e-7  # small constant\n",
    "\n",
    "#     The constant epsilon has been added. I was facing an issue where the argument of no.log was very close to 0 and\n",
    "#     thus was producing cost functions which were infinitely large. The epsilon offsets the np.log argument and prevents\n",
    "#     this.\n",
    "    loss = -y * np.log(sig + epsilon) - (1 - y) * np.log(1 - sig + epsilon)\n",
    "    reg_term = (Lam / (2 * m)) * np.sum(w_in ** 2)\n",
    "    \n",
    "    total_cost = (1 / m) * (np.sum(loss) + reg_term)\n",
    "    return total_cost\n",
    "\n",
    "#Grad Descent\n",
    "def grad(x, y, w_in, b_in, L, Lam):\n",
    "   \n",
    "    m = x.shape[0]    \n",
    "    \n",
    "    f_x = np.dot(x,w_in) + b_in\n",
    "    sig = sigmoid(f_x)\n",
    "        \n",
    "    reg_term = (Lam/m) * w_in\n",
    "    \n",
    "    w_g = (1 / m) * np.dot(x.T, sig - y) + reg_term\n",
    "    b_g = (1 / m) * np.sum(sig - y)\n",
    "    \n",
    "    w = w_in - L * w_g\n",
    "    b = b_in - L * b_g\n",
    "    return w, b   \n"
   ]
  },
  {
   "cell_type": "markdown",
   "id": "26ee6521",
   "metadata": {
    "papermill": {
     "duration": 0.007207,
     "end_time": "2023-08-16T15:04:16.629087",
     "exception": false,
     "start_time": "2023-08-16T15:04:16.621880",
     "status": "completed"
    },
    "tags": []
   },
   "source": [
    "# Optimizing Lambda and Learning Rate"
   ]
  },
  {
   "cell_type": "code",
   "execution_count": 8,
   "id": "ce068d77",
   "metadata": {
    "execution": {
     "iopub.execute_input": "2023-08-16T15:04:16.645911Z",
     "iopub.status.busy": "2023-08-16T15:04:16.645435Z",
     "iopub.status.idle": "2023-08-16T15:05:24.779414Z",
     "shell.execute_reply": "2023-08-16T15:05:24.777784Z"
    },
    "papermill": {
     "duration": 68.162442,
     "end_time": "2023-08-16T15:05:24.798985",
     "exception": false,
     "start_time": "2023-08-16T15:04:16.636543",
     "status": "completed"
    },
    "tags": []
   },
   "outputs": [
    {
     "name": "stdout",
     "output_type": "stream",
     "text": [
      "Best L: 1, Best Lam: 0.001\n"
     ]
    }
   ],
   "source": [
    "# Define the hyperparameter grid\n",
    "L_values = [0.001, 0.01, 0.1, 1]\n",
    "Lam_values = [0.001, 0.01, 0.1, 1, 10, 50]\n",
    "\n",
    "# Initialize variables\n",
    "w = np.zeros((x_train.shape[1], 1))  # Initialize w with the correct shape\n",
    "b = 0\n",
    "epoch = 2000\n",
    "\n",
    "# Initialize lists to store the results\n",
    "best_L = None\n",
    "best_Lam = None\n",
    "best_cost = float('inf')\n",
    "\n",
    "# Perform the grid search\n",
    "for L in L_values:\n",
    "    for Lam in Lam_values:\n",
    "        # Reset the weights and bias\n",
    "        w.fill(0)\n",
    "        b = 0\n",
    "        \n",
    "        # Training loop\n",
    "        for i in range(epoch):\n",
    "            w, b = grad(x_train, y_train, w, b, L, Lam)\n",
    "        \n",
    "        # Calculate the cost on the validation set (the Lam and L values are calculated\n",
    "        #using train/test but evaluated using the validation set to avoid overfitting)\n",
    "        \n",
    "        cost = cost_f(x_validation, y_validation, w, b, Lam)\n",
    "        \n",
    "        # Update the best hyperparameters if necessary\n",
    "        if cost < best_cost:\n",
    "            best_L = L\n",
    "            best_Lam = Lam\n",
    "            best_cost = cost\n",
    "\n",
    "# Print the best hyperparameters\n",
    "print(f\"Best L: {best_L}, Best Lam: {best_Lam}\")"
   ]
  },
  {
   "cell_type": "code",
   "execution_count": 9,
   "id": "05756d80",
   "metadata": {
    "execution": {
     "iopub.execute_input": "2023-08-16T15:05:24.834055Z",
     "iopub.status.busy": "2023-08-16T15:05:24.833293Z",
     "iopub.status.idle": "2023-08-16T15:05:31.973273Z",
     "shell.execute_reply": "2023-08-16T15:05:31.971788Z"
    },
    "papermill": {
     "duration": 7.1626,
     "end_time": "2023-08-16T15:05:31.977464",
     "exception": false,
     "start_time": "2023-08-16T15:05:24.814864",
     "status": "completed"
    },
    "tags": []
   },
   "outputs": [
    {
     "name": "stdout",
     "output_type": "stream",
     "text": [
      "Epochs and Costs:\n",
      "Epoch: 0, Cost: 0.5732214897072735\n",
      "Epoch: 200, Cost: 0.38985723924069304\n",
      "Epoch: 400, Cost: 0.37471590907679797\n",
      "Epoch: 600, Cost: 0.3641336357559871\n",
      "Epoch: 800, Cost: 0.3562220259483754\n",
      "Epoch: 1000, Cost: 0.3500478100645056\n",
      "Epoch: 1200, Cost: 0.34508626600828257\n",
      "Epoch: 1400, Cost: 0.3410130465827051\n",
      "Epoch: 1600, Cost: 0.33761321611952827\n",
      "Epoch: 1800, Cost: 0.33473696180395623\n",
      "Final values:\n",
      "Final w: [[ 2.01725209]\n",
      " [ 0.05007959]\n",
      " [-0.09794728]\n",
      " [-0.037982  ]\n",
      " [ 0.05007959]\n",
      " [-1.98358392]\n",
      " [-1.80689848]\n",
      " [ 0.        ]\n",
      " [-2.23492291]\n",
      " [-1.42450559]\n",
      " [-1.0514461 ]\n",
      " [-2.17555022]\n",
      " [-0.12717132]\n",
      " [-2.43653839]\n",
      " [-3.03026311]\n",
      " [-1.67363977]\n",
      " [-1.60017378]\n",
      " [-3.17343096]\n",
      " [-2.9350844 ]\n",
      " [-3.02546926]\n",
      " [-2.75357596]\n",
      " [-0.33358782]\n",
      " [-0.38516385]\n",
      " [-0.66905923]], Final b: 8.089419281126\n"
     ]
    }
   ],
   "source": [
    "# Initialize variables\n",
    "w = np.zeros((x_train.shape[1], 1))  # Initialize w with the correct shape\n",
    "b = 0\n",
    "L = 1\n",
    "Lam = 0.001\n",
    "epoch = 2000\n",
    "print_epochs = []\n",
    "print_costs = []\n",
    "cost_hist = []\n",
    "\n",
    "# Training loop\n",
    "\n",
    "for i in range(epoch):\n",
    "    w, b = grad(x_train, y_train, w, b, L,Lam)\n",
    "    \n",
    "    if i % 200 == 0:\n",
    "        print_epochs.append(i)\n",
    "        cost = cost_f(x_train, y_train, w, b,Lam)\n",
    "        print_costs.append(cost)\n",
    "    \n",
    "    cost = cost_f(x_train, y_train, w, b,Lam)\n",
    "    cost_hist.append(cost)\n",
    "\n",
    "# Print results\n",
    "print(\"Epochs and Costs:\")\n",
    "for epoch, cost in zip(print_epochs, print_costs):\n",
    "    print(f\"Epoch: {epoch}, Cost: {cost}\")\n",
    "\n",
    "print(\"Final values:\")\n",
    "print(f\"Final w: {w}, Final b: {b}\")"
   ]
  },
  {
   "cell_type": "code",
   "execution_count": 10,
   "id": "36d2da3b",
   "metadata": {
    "execution": {
     "iopub.execute_input": "2023-08-16T15:05:32.012660Z",
     "iopub.status.busy": "2023-08-16T15:05:32.011895Z",
     "iopub.status.idle": "2023-08-16T15:05:32.377291Z",
     "shell.execute_reply": "2023-08-16T15:05:32.376379Z"
    },
    "papermill": {
     "duration": 0.386327,
     "end_time": "2023-08-16T15:05:32.379786",
     "exception": false,
     "start_time": "2023-08-16T15:05:31.993459",
     "status": "completed"
    },
    "tags": []
   },
   "outputs": [
    {
     "data": {
      "image/png": "[encoded data removed]",
      "text/plain": [
       "<Figure size 640x480 with 1 Axes>"
      ]
     },
     "metadata": {},
     "output_type": "display_data"
    }
   ],
   "source": [
    "#Visualizing the decrease in Cost\n",
    "plt.plot(print_epochs, print_costs, marker='o')\n",
    "plt.xlabel('Epochs')\n",
    "plt.ylabel('Cost')\n",
    "plt.title('Cost Convergence Over Epochs')\n",
    "plt.grid()\n",
    "plt.show()"
   ]
  },
  {
   "cell_type": "markdown",
   "id": "7d194f65",
   "metadata": {
    "papermill": {
     "duration": 0.007851,
     "end_time": "2023-08-16T15:05:32.395743",
     "exception": false,
     "start_time": "2023-08-16T15:05:32.387892",
     "status": "completed"
    },
    "tags": []
   },
   "source": [
    "# Interpretation of the Model"
   ]
  },
  {
   "cell_type": "code",
   "execution_count": 11,
   "id": "e16e5a60",
   "metadata": {
    "execution": {
     "iopub.execute_input": "2023-08-16T15:05:32.415139Z",
     "iopub.status.busy": "2023-08-16T15:05:32.414385Z",
     "iopub.status.idle": "2023-08-16T15:05:32.454832Z",
     "shell.execute_reply": "2023-08-16T15:05:32.453275Z"
    },
    "papermill": {
     "duration": 0.054724,
     "end_time": "2023-08-16T15:05:32.459065",
     "exception": false,
     "start_time": "2023-08-16T15:05:32.404341",
     "status": "completed"
    },
    "tags": []
   },
   "outputs": [
    {
     "name": "stdout",
     "output_type": "stream",
     "text": [
      "Confusion Matrix:\n",
      "[[2093  249]\n",
      " [ 320  862]]\n",
      "Classification Report:\n",
      "              precision    recall  f1-score   support\n",
      "\n",
      "           0       0.87      0.89      0.88      2342\n",
      "           1       0.78      0.73      0.75      1182\n",
      "\n",
      "    accuracy                           0.84      3524\n",
      "   macro avg       0.82      0.81      0.82      3524\n",
      "weighted avg       0.84      0.84      0.84      3524\n",
      "\n"
     ]
    }
   ],
   "source": [
    "from sklearn.metrics import confusion_matrix, classification_report\n",
    "\n",
    "# Calculate the predicted values\n",
    "y_pred = 1 / (1 + np.exp(-(np.dot(x_test, w) + b))) > 0.5\n",
    "\n",
    "# Calculate the confusion matrix\n",
    "cm = confusion_matrix(y_test, y_pred)\n",
    "\n",
    "# Print the confusion matrix\n",
    "print('Confusion Matrix:')\n",
    "print(cm)\n",
    "\n",
    "# Calculate the classification report\n",
    "cr = classification_report(y_test, y_pred)\n",
    "\n",
    "# Print the classification report\n",
    "print('Classification Report:')\n",
    "print(cr)"
   ]
  },
  {
   "cell_type": "markdown",
   "id": "9c289ec9",
   "metadata": {
    "papermill": {
     "duration": 0.017156,
     "end_time": "2023-08-16T15:05:32.493792",
     "exception": false,
     "start_time": "2023-08-16T15:05:32.476636",
     "status": "completed"
    },
    "tags": []
   },
   "source": [
    "# Interpretation/Analysis of the Results"
   ]
  },
  {
   "cell_type": "markdown",
   "id": "f2ef8ef8",
   "metadata": {
    "papermill": {
     "duration": 0.017128,
     "end_time": "2023-08-16T15:05:32.528617",
     "exception": false,
     "start_time": "2023-08-16T15:05:32.511489",
     "status": "completed"
    },
    "tags": []
   },
   "source": [
    "In the analysis, the confusion matrix reveals the model's predictive performance across two classes: class 0 and class 1. For class 0, the model accurately predicted 2089 instances while incorrectly classifying 253 instances. In the case of class 1, the model achieved 870 correct predictions and made 312 incorrect predictions.\n",
    "The classification report provides an evaluation of the model's accuracy within each class. The model shows a 87% accuracy when identifying individuals who did not/would not experience a stroke based on their data. For individuals who did have/would have a stroke, the model achieved an accuracy of 77%.\n",
    "The overall accuracy of the model stands at 84%, being able to make accurate predictions across both classes. The macro average F1-score was calculated at 82%, indicating a balanced performance across the two classes. The weighted average F1-score, which takes class imbalances into account, was also calculated at 84%. These metrics collectively display the model's ability to make fairly accurate predictions across the dataset."
   ]
  }
 ],
 "metadata": {
  "kernelspec": {
   "display_name": "Python 3",
   "language": "python",
   "name": "python3"
  },
  "language_info": {
   "codemirror_mode": {
    "name": "ipython",
    "version": 3
   },
   "file_extension": ".py",
   "mimetype": "text/x-python",
   "name": "python",
   "nbconvert_exporter": "python",
   "pygments_lexer": "ipython3",
   "version": "3.10.12"
  },
  "papermill": {
   "default_parameters": {},
   "duration": 91.265614,
   "end_time": "2023-08-16T15:05:33.568508",
   "environment_variables": {},
   "exception": null,
   "input_path": "__notebook__.ipynb",
   "output_path": "__notebook__.ipynb",
   "parameters": {},
   "start_time": "2023-08-16T15:04:02.302894",
   "version": "2.4.0"
  }
 },
 "nbformat": 4,
 "nbformat_minor": 5
}
